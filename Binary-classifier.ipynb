{
  "nbformat": 4,
  "nbformat_minor": 0,
  "metadata": {
    "colab": {
      "name": "Untitled2.ipynb",
      "provenance": [],
      "authorship_tag": "ABX9TyPAkBcMz9nYQKAcJBoN7M6p"
    },
    "kernelspec": {
      "name": "python3",
      "display_name": "Python 3"
    },
    "language_info": {
      "name": "python"
    }
  },
  "cells": [
    {
      "cell_type": "code",
      "execution_count": 18,
      "metadata": {
        "id": "BhKyLYDLNCdG"
      },
      "outputs": [],
      "source": [
        "import numpy as np\n",
        "import keras\n",
        "import matplotlib.pyplot as plt\n",
        "\n"
      ]
    },
    {
      "cell_type": "code",
      "source": [
        "from keras.datasets import imdb\n",
        "from keras.preprocessing.text import Tokenizer\n",
        "from keras import models\n",
        "from keras import layers"
      ],
      "metadata": {
        "id": "Gvo-JZ3DO6rh"
      },
      "execution_count": 7,
      "outputs": []
    },
    {
      "cell_type": "code",
      "source": [
        "np.random.seed(0)\n",
        "number_of_features=10000\n",
        "(data_train, target_train),(data_test,target_test)=imdb.load_data(num_words=number_of_features)"
      ],
      "metadata": {
        "colab": {
          "base_uri": "https://localhost:8080/"
        },
        "id": "tG2mbv9VR9dX",
        "outputId": "1b493a57-a167-427e-a51e-f0924d6619e0"
      },
      "execution_count": 8,
      "outputs": [
        {
          "output_type": "stream",
          "name": "stdout",
          "text": [
            "Downloading data from https://storage.googleapis.com/tensorflow/tf-keras-datasets/imdb.npz\n",
            "17465344/17464789 [==============================] - 0s 0us/step\n",
            "17473536/17464789 [==============================] - 0s 0us/step\n"
          ]
        }
      ]
    },
    {
      "cell_type": "code",
      "source": [
        "tokenizer=Tokenizer(num_words=number_of_features)\n",
        "features_train=tokenizer.sequences_to_matrix(data_train, mode=\"binary\")\n",
        "features_test= tokenizer.sequences_to_matrix(data_test,mode=\"binary\")"
      ],
      "metadata": {
        "id": "xCdwvImTTR5S"
      },
      "execution_count": 9,
      "outputs": []
    },
    {
      "cell_type": "code",
      "source": [
        "network=models.Sequential()\n",
        "network.add(layers.Dense(units=16,activation=\"relu\", input_shape=(number_of_features,)))\n",
        "network.add(layers.Dense(units=16,activation=\"relu\"))\n",
        "network.add(layers.Dense(units=1,activation=\"sigmoid\"))"
      ],
      "metadata": {
        "id": "sgmx6kUfUlhY"
      },
      "execution_count": 15,
      "outputs": []
    },
    {
      "cell_type": "code",
      "source": [
        "network.compile(loss=\"binary_crossentropy\",optimizer=\"rmsprop\", metrics=[\"accuracy\"])\n",
        "history=network.fit(features_train,target_train,epochs=15,verbose=0,batch_size=1000,validation_data=(features_test,target_test))"
      ],
      "metadata": {
        "id": "8jerdC9OtuPm"
      },
      "execution_count": 20,
      "outputs": []
    },
    {
      "cell_type": "code",
      "source": [
        "training_loss=history.history[\"loss\"]\n",
        "test_loss=history.history[\"val_loss\"]"
      ],
      "metadata": {
        "id": "CrhyOh02pm-b"
      },
      "execution_count": 21,
      "outputs": []
    },
    {
      "cell_type": "code",
      "source": [
        "epoch_count=range(1,len(training_loss)+1)\n",
        "plt.plot(epoch_count,training_loss, \"r--\")\n",
        "plt.plot(epoch_count,test_loss, \"b-\")\n",
        "plt.legend([\"Training Loss\", \"Test Loss\"])\n",
        "plt.xlabel(\"Epoch\")\n",
        "plt.ylabel(\"Loss\")\n",
        "plt.show();"
      ],
      "metadata": {
        "colab": {
          "base_uri": "https://localhost:8080/",
          "height": 279
        },
        "id": "UN3lN5jkrz4T",
        "outputId": "8b85a984-9494-4355-83f8-657f36fede97"
      },
      "execution_count": 23,
      "outputs": [
        {
          "output_type": "display_data",
          "data": {
            "text/plain": [
              "<Figure size 432x288 with 1 Axes>"
            ],
            "image/png": "[encoded data removed]"
          },
          "metadata": {
            "needs_background": "light"
          }
        }
      ]
    }
  ]
}
